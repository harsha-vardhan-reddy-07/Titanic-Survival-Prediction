{
 "cells": [
  {
   "cell_type": "markdown",
   "metadata": {
    "_cell_guid": "b1076dfc-b9ad-4769-8c92-a6c4dae69d19",
    "_uuid": "8f2839f25d086af736a60e9eeb907d3b93b6e0e5",
    "execution": {
     "iopub.execute_input": "2022-03-15T17:10:54.813049Z",
     "iopub.status.busy": "2022-03-15T17:10:54.812356Z",
     "iopub.status.idle": "2022-03-15T17:10:54.858162Z",
     "shell.execute_reply": "2022-03-15T17:10:54.857443Z",
     "shell.execute_reply.started": "2022-03-15T17:10:54.812949Z"
    }
   },
   "source": [
    "# Problem statement\n",
    "\n",
    "> Here, using the data provided about passengers of Titanic, we've to predicit whether the passenger was survived the accident(titanic crash) or not.\n",
    "\n",
    "# Data\n",
    "\n",
    "> Data for this prediction model(Classification) is taken from the kaggle \"Titanic - Machine Learning for Disaster\" competition dataset : https://www.kaggle.com/c/titanic/data\n"
   ]
  },
  {
   "cell_type": "code",
   "execution_count": 1,
   "metadata": {
    "execution": {
     "iopub.execute_input": "2022-03-17T06:21:51.740693Z",
     "iopub.status.busy": "2022-03-17T06:21:51.740472Z",
     "iopub.status.idle": "2022-03-17T06:21:51.749088Z",
     "shell.execute_reply": "2022-03-17T06:21:51.748199Z",
     "shell.execute_reply.started": "2022-03-17T06:21:51.740667Z"
    }
   },
   "outputs": [],
   "source": [
    "## Let's import the required tools\n",
    "\n",
    "#Regular tools\n",
    "import pandas as pd\n",
    "import numpy as np\n",
    "import matplotlib.pyplot as plt\n",
    "%matplotlib inline\n",
    "import seaborn as sns\n",
    "\n",
    "# ML models(scikit-learn)\n",
    "from sklearn.ensemble import RandomForestClassifier\n",
    "\n",
    "\n",
    "# Model evaluation tools\n",
    "from sklearn.model_selection import train_test_split, GridSearchCV\n",
    "from sklearn.metrics import confusion_matrix, classification_report\n",
    "from sklearn.metrics import precision_score, recall_score, f1_score\n",
    "from sklearn.metrics import plot_roc_curve"
   ]
  },
  {
   "cell_type": "code",
   "execution_count": 2,
   "metadata": {
    "execution": {
     "iopub.execute_input": "2022-03-17T06:21:51.750502Z",
     "iopub.status.busy": "2022-03-17T06:21:51.750279Z",
     "iopub.status.idle": "2022-03-17T06:21:51.786695Z",
     "shell.execute_reply": "2022-03-17T06:21:51.785747Z",
     "shell.execute_reply.started": "2022-03-17T06:21:51.750474Z"
    }
   },
   "outputs": [
    {
     "data": {
      "text/html": [
       "<div>\n",
       "<style scoped>\n",
       "    .dataframe tbody tr th:only-of-type {\n",
       "        vertical-align: middle;\n",
       "    }\n",
       "\n",
       "    .dataframe tbody tr th {\n",
       "        vertical-align: top;\n",
       "    }\n",
       "\n",
       "    .dataframe thead th {\n",
       "        text-align: right;\n",
       "    }\n",
       "</style>\n",
       "<table border=\"1\" class=\"dataframe\">\n",
       "  <thead>\n",
       "    <tr style=\"text-align: right;\">\n",
       "      <th></th>\n",
       "      <th>PassengerId</th>\n",
       "      <th>Survived</th>\n",
       "      <th>Pclass</th>\n",
       "      <th>Name</th>\n",
       "      <th>Sex</th>\n",
       "      <th>Age</th>\n",
       "      <th>SibSp</th>\n",
       "      <th>Parch</th>\n",
       "      <th>Ticket</th>\n",
       "      <th>Fare</th>\n",
       "      <th>Cabin</th>\n",
       "      <th>Embarked</th>\n",
       "    </tr>\n",
       "  </thead>\n",
       "  <tbody>\n",
       "    <tr>\n",
       "      <th>0</th>\n",
       "      <td>1</td>\n",
       "      <td>0</td>\n",
       "      <td>3</td>\n",
       "      <td>Braund, Mr. Owen Harris</td>\n",
       "      <td>male</td>\n",
       "      <td>22.0</td>\n",
       "      <td>1</td>\n",
       "      <td>0</td>\n",
       "      <td>A/5 21171</td>\n",
       "      <td>7.2500</td>\n",
       "      <td>NaN</td>\n",
       "      <td>S</td>\n",
       "    </tr>\n",
       "    <tr>\n",
       "      <th>1</th>\n",
       "      <td>2</td>\n",
       "      <td>1</td>\n",
       "      <td>1</td>\n",
       "      <td>Cumings, Mrs. John Bradley (Florence Briggs Th...</td>\n",
       "      <td>female</td>\n",
       "      <td>38.0</td>\n",
       "      <td>1</td>\n",
       "      <td>0</td>\n",
       "      <td>PC 17599</td>\n",
       "      <td>71.2833</td>\n",
       "      <td>C85</td>\n",
       "      <td>C</td>\n",
       "    </tr>\n",
       "    <tr>\n",
       "      <th>2</th>\n",
       "      <td>3</td>\n",
       "      <td>1</td>\n",
       "      <td>3</td>\n",
       "      <td>Heikkinen, Miss. Laina</td>\n",
       "      <td>female</td>\n",
       "      <td>26.0</td>\n",
       "      <td>0</td>\n",
       "      <td>0</td>\n",
       "      <td>STON/O2. 3101282</td>\n",
       "      <td>7.9250</td>\n",
       "      <td>NaN</td>\n",
       "      <td>S</td>\n",
       "    </tr>\n",
       "    <tr>\n",
       "      <th>3</th>\n",
       "      <td>4</td>\n",
       "      <td>1</td>\n",
       "      <td>1</td>\n",
       "      <td>Futrelle, Mrs. Jacques Heath (Lily May Peel)</td>\n",
       "      <td>female</td>\n",
       "      <td>35.0</td>\n",
       "      <td>1</td>\n",
       "      <td>0</td>\n",
       "      <td>113803</td>\n",
       "      <td>53.1000</td>\n",
       "      <td>C123</td>\n",
       "      <td>S</td>\n",
       "    </tr>\n",
       "    <tr>\n",
       "      <th>4</th>\n",
       "      <td>5</td>\n",
       "      <td>0</td>\n",
       "      <td>3</td>\n",
       "      <td>Allen, Mr. William Henry</td>\n",
       "      <td>male</td>\n",
       "      <td>35.0</td>\n",
       "      <td>0</td>\n",
       "      <td>0</td>\n",
       "      <td>373450</td>\n",
       "      <td>8.0500</td>\n",
       "      <td>NaN</td>\n",
       "      <td>S</td>\n",
       "    </tr>\n",
       "    <tr>\n",
       "      <th>...</th>\n",
       "      <td>...</td>\n",
       "      <td>...</td>\n",
       "      <td>...</td>\n",
       "      <td>...</td>\n",
       "      <td>...</td>\n",
       "      <td>...</td>\n",
       "      <td>...</td>\n",
       "      <td>...</td>\n",
       "      <td>...</td>\n",
       "      <td>...</td>\n",
       "      <td>...</td>\n",
       "      <td>...</td>\n",
       "    </tr>\n",
       "    <tr>\n",
       "      <th>886</th>\n",
       "      <td>887</td>\n",
       "      <td>0</td>\n",
       "      <td>2</td>\n",
       "      <td>Montvila, Rev. Juozas</td>\n",
       "      <td>male</td>\n",
       "      <td>27.0</td>\n",
       "      <td>0</td>\n",
       "      <td>0</td>\n",
       "      <td>211536</td>\n",
       "      <td>13.0000</td>\n",
       "      <td>NaN</td>\n",
       "      <td>S</td>\n",
       "    </tr>\n",
       "    <tr>\n",
       "      <th>887</th>\n",
       "      <td>888</td>\n",
       "      <td>1</td>\n",
       "      <td>1</td>\n",
       "      <td>Graham, Miss. Margaret Edith</td>\n",
       "      <td>female</td>\n",
       "      <td>19.0</td>\n",
       "      <td>0</td>\n",
       "      <td>0</td>\n",
       "      <td>112053</td>\n",
       "      <td>30.0000</td>\n",
       "      <td>B42</td>\n",
       "      <td>S</td>\n",
       "    </tr>\n",
       "    <tr>\n",
       "      <th>888</th>\n",
       "      <td>889</td>\n",
       "      <td>0</td>\n",
       "      <td>3</td>\n",
       "      <td>Johnston, Miss. Catherine Helen \"Carrie\"</td>\n",
       "      <td>female</td>\n",
       "      <td>NaN</td>\n",
       "      <td>1</td>\n",
       "      <td>2</td>\n",
       "      <td>W./C. 6607</td>\n",
       "      <td>23.4500</td>\n",
       "      <td>NaN</td>\n",
       "      <td>S</td>\n",
       "    </tr>\n",
       "    <tr>\n",
       "      <th>889</th>\n",
       "      <td>890</td>\n",
       "      <td>1</td>\n",
       "      <td>1</td>\n",
       "      <td>Behr, Mr. Karl Howell</td>\n",
       "      <td>male</td>\n",
       "      <td>26.0</td>\n",
       "      <td>0</td>\n",
       "      <td>0</td>\n",
       "      <td>111369</td>\n",
       "      <td>30.0000</td>\n",
       "      <td>C148</td>\n",
       "      <td>C</td>\n",
       "    </tr>\n",
       "    <tr>\n",
       "      <th>890</th>\n",
       "      <td>891</td>\n",
       "      <td>0</td>\n",
       "      <td>3</td>\n",
       "      <td>Dooley, Mr. Patrick</td>\n",
       "      <td>male</td>\n",
       "      <td>32.0</td>\n",
       "      <td>0</td>\n",
       "      <td>0</td>\n",
       "      <td>370376</td>\n",
       "      <td>7.7500</td>\n",
       "      <td>NaN</td>\n",
       "      <td>Q</td>\n",
       "    </tr>\n",
       "  </tbody>\n",
       "</table>\n",
       "<p>891 rows × 12 columns</p>\n",
       "</div>"
      ],
      "text/plain": [
       "     PassengerId  Survived  Pclass  \\\n",
       "0              1         0       3   \n",
       "1              2         1       1   \n",
       "2              3         1       3   \n",
       "3              4         1       1   \n",
       "4              5         0       3   \n",
       "..           ...       ...     ...   \n",
       "886          887         0       2   \n",
       "887          888         1       1   \n",
       "888          889         0       3   \n",
       "889          890         1       1   \n",
       "890          891         0       3   \n",
       "\n",
       "                                                  Name     Sex   Age  SibSp  \\\n",
       "0                              Braund, Mr. Owen Harris    male  22.0      1   \n",
       "1    Cumings, Mrs. John Bradley (Florence Briggs Th...  female  38.0      1   \n",
       "2                               Heikkinen, Miss. Laina  female  26.0      0   \n",
       "3         Futrelle, Mrs. Jacques Heath (Lily May Peel)  female  35.0      1   \n",
       "4                             Allen, Mr. William Henry    male  35.0      0   \n",
       "..                                                 ...     ...   ...    ...   \n",
       "886                              Montvila, Rev. Juozas    male  27.0      0   \n",
       "887                       Graham, Miss. Margaret Edith  female  19.0      0   \n",
       "888           Johnston, Miss. Catherine Helen \"Carrie\"  female   NaN      1   \n",
       "889                              Behr, Mr. Karl Howell    male  26.0      0   \n",
       "890                                Dooley, Mr. Patrick    male  32.0      0   \n",
       "\n",
       "     Parch            Ticket     Fare Cabin Embarked  \n",
       "0        0         A/5 21171   7.2500   NaN        S  \n",
       "1        0          PC 17599  71.2833   C85        C  \n",
       "2        0  STON/O2. 3101282   7.9250   NaN        S  \n",
       "3        0            113803  53.1000  C123        S  \n",
       "4        0            373450   8.0500   NaN        S  \n",
       "..     ...               ...      ...   ...      ...  \n",
       "886      0            211536  13.0000   NaN        S  \n",
       "887      0            112053  30.0000   B42        S  \n",
       "888      2        W./C. 6607  23.4500   NaN        S  \n",
       "889      0            111369  30.0000  C148        C  \n",
       "890      0            370376   7.7500   NaN        Q  \n",
       "\n",
       "[891 rows x 12 columns]"
      ]
     },
     "execution_count": 2,
     "metadata": {},
     "output_type": "execute_result"
    }
   ],
   "source": [
    "df = pd.read_csv('data/train.csv')\n",
    "df"
   ]
  },
  {
   "cell_type": "code",
   "execution_count": 3,
   "metadata": {
    "execution": {
     "iopub.execute_input": "2022-03-17T06:21:51.788985Z",
     "iopub.status.busy": "2022-03-17T06:21:51.788413Z",
     "iopub.status.idle": "2022-03-17T06:21:51.803882Z",
     "shell.execute_reply": "2022-03-17T06:21:51.803037Z",
     "shell.execute_reply.started": "2022-03-17T06:21:51.788940Z"
    }
   },
   "outputs": [
    {
     "name": "stdout",
     "output_type": "stream",
     "text": [
      "<class 'pandas.core.frame.DataFrame'>\n",
      "RangeIndex: 891 entries, 0 to 890\n",
      "Data columns (total 12 columns):\n",
      " #   Column       Non-Null Count  Dtype  \n",
      "---  ------       --------------  -----  \n",
      " 0   PassengerId  891 non-null    int64  \n",
      " 1   Survived     891 non-null    int64  \n",
      " 2   Pclass       891 non-null    int64  \n",
      " 3   Name         891 non-null    object \n",
      " 4   Sex          891 non-null    object \n",
      " 5   Age          714 non-null    float64\n",
      " 6   SibSp        891 non-null    int64  \n",
      " 7   Parch        891 non-null    int64  \n",
      " 8   Ticket       891 non-null    object \n",
      " 9   Fare         891 non-null    float64\n",
      " 10  Cabin        204 non-null    object \n",
      " 11  Embarked     889 non-null    object \n",
      "dtypes: float64(2), int64(5), object(5)\n",
      "memory usage: 83.7+ KB\n"
     ]
    }
   ],
   "source": [
    "df.info()"
   ]
  },
  {
   "cell_type": "code",
   "execution_count": 4,
   "metadata": {
    "execution": {
     "iopub.execute_input": "2022-03-17T06:21:51.805309Z",
     "iopub.status.busy": "2022-03-17T06:21:51.805077Z",
     "iopub.status.idle": "2022-03-17T06:21:51.812474Z",
     "shell.execute_reply": "2022-03-17T06:21:51.811828Z",
     "shell.execute_reply.started": "2022-03-17T06:21:51.805282Z"
    }
   },
   "outputs": [
    {
     "data": {
      "text/plain": [
       "0    549\n",
       "1    342\n",
       "Name: Survived, dtype: int64"
      ]
     },
     "execution_count": 4,
     "metadata": {},
     "output_type": "execute_result"
    }
   ],
   "source": [
    "## Let's analyze the target values\n",
    "df['Survived'].value_counts()"
   ]
  },
  {
   "cell_type": "code",
   "execution_count": 5,
   "metadata": {
    "execution": {
     "iopub.execute_input": "2022-03-17T06:21:51.814163Z",
     "iopub.status.busy": "2022-03-17T06:21:51.813525Z",
     "iopub.status.idle": "2022-03-17T06:21:51.992345Z",
     "shell.execute_reply": "2022-03-17T06:21:51.991652Z",
     "shell.execute_reply.started": "2022-03-17T06:21:51.814129Z"
    }
   },
   "outputs": [
    {
     "data": {
      "image/png": "[encoded data removed]",
      "text/plain": [
       "<Figure size 432x288 with 1 Axes>"
      ]
     },
     "metadata": {
      "needs_background": "light"
     },
     "output_type": "display_data"
    }
   ],
   "source": [
    "df['Survived'].value_counts().plot(kind='bar', color=['salmon', 'cyan']);"
   ]
  },
  {
   "cell_type": "code",
   "execution_count": 6,
   "metadata": {
    "execution": {
     "iopub.execute_input": "2022-03-17T06:21:51.993669Z",
     "iopub.status.busy": "2022-03-17T06:21:51.993438Z",
     "iopub.status.idle": "2022-03-17T06:21:52.024578Z",
     "shell.execute_reply": "2022-03-17T06:21:52.023760Z",
     "shell.execute_reply.started": "2022-03-17T06:21:51.993638Z"
    }
   },
   "outputs": [
    {
     "data": {
      "text/html": [
       "<div>\n",
       "<style scoped>\n",
       "    .dataframe tbody tr th:only-of-type {\n",
       "        vertical-align: middle;\n",
       "    }\n",
       "\n",
       "    .dataframe tbody tr th {\n",
       "        vertical-align: top;\n",
       "    }\n",
       "\n",
       "    .dataframe thead th {\n",
       "        text-align: right;\n",
       "    }\n",
       "</style>\n",
       "<table border=\"1\" class=\"dataframe\">\n",
       "  <thead>\n",
       "    <tr style=\"text-align: right;\">\n",
       "      <th></th>\n",
       "      <th>PassengerId</th>\n",
       "      <th>Survived</th>\n",
       "      <th>Pclass</th>\n",
       "      <th>Age</th>\n",
       "      <th>SibSp</th>\n",
       "      <th>Parch</th>\n",
       "      <th>Fare</th>\n",
       "    </tr>\n",
       "  </thead>\n",
       "  <tbody>\n",
       "    <tr>\n",
       "      <th>count</th>\n",
       "      <td>891.000000</td>\n",
       "      <td>891.000000</td>\n",
       "      <td>891.000000</td>\n",
       "      <td>714.000000</td>\n",
       "      <td>891.000000</td>\n",
       "      <td>891.000000</td>\n",
       "      <td>891.000000</td>\n",
       "    </tr>\n",
       "    <tr>\n",
       "      <th>mean</th>\n",
       "      <td>446.000000</td>\n",
       "      <td>0.383838</td>\n",
       "      <td>2.308642</td>\n",
       "      <td>29.699118</td>\n",
       "      <td>0.523008</td>\n",
       "      <td>0.381594</td>\n",
       "      <td>32.204208</td>\n",
       "    </tr>\n",
       "    <tr>\n",
       "      <th>std</th>\n",
       "      <td>257.353842</td>\n",
       "      <td>0.486592</td>\n",
       "      <td>0.836071</td>\n",
       "      <td>14.526497</td>\n",
       "      <td>1.102743</td>\n",
       "      <td>0.806057</td>\n",
       "      <td>49.693429</td>\n",
       "    </tr>\n",
       "    <tr>\n",
       "      <th>min</th>\n",
       "      <td>1.000000</td>\n",
       "      <td>0.000000</td>\n",
       "      <td>1.000000</td>\n",
       "      <td>0.420000</td>\n",
       "      <td>0.000000</td>\n",
       "      <td>0.000000</td>\n",
       "      <td>0.000000</td>\n",
       "    </tr>\n",
       "    <tr>\n",
       "      <th>25%</th>\n",
       "      <td>223.500000</td>\n",
       "      <td>0.000000</td>\n",
       "      <td>2.000000</td>\n",
       "      <td>20.125000</td>\n",
       "      <td>0.000000</td>\n",
       "      <td>0.000000</td>\n",
       "      <td>7.910400</td>\n",
       "    </tr>\n",
       "    <tr>\n",
       "      <th>50%</th>\n",
       "      <td>446.000000</td>\n",
       "      <td>0.000000</td>\n",
       "      <td>3.000000</td>\n",
       "      <td>28.000000</td>\n",
       "      <td>0.000000</td>\n",
       "      <td>0.000000</td>\n",
       "      <td>14.454200</td>\n",
       "    </tr>\n",
       "    <tr>\n",
       "      <th>75%</th>\n",
       "      <td>668.500000</td>\n",
       "      <td>1.000000</td>\n",
       "      <td>3.000000</td>\n",
       "      <td>38.000000</td>\n",
       "      <td>1.000000</td>\n",
       "      <td>0.000000</td>\n",
       "      <td>31.000000</td>\n",
       "    </tr>\n",
       "    <tr>\n",
       "      <th>max</th>\n",
       "      <td>891.000000</td>\n",
       "      <td>1.000000</td>\n",
       "      <td>3.000000</td>\n",
       "      <td>80.000000</td>\n",
       "      <td>8.000000</td>\n",
       "      <td>6.000000</td>\n",
       "      <td>512.329200</td>\n",
       "    </tr>\n",
       "  </tbody>\n",
       "</table>\n",
       "</div>"
      ],
      "text/plain": [
       "       PassengerId    Survived      Pclass         Age       SibSp  \\\n",
       "count   891.000000  891.000000  891.000000  714.000000  891.000000   \n",
       "mean    446.000000    0.383838    2.308642   29.699118    0.523008   \n",
       "std     257.353842    0.486592    0.836071   14.526497    1.102743   \n",
       "min       1.000000    0.000000    1.000000    0.420000    0.000000   \n",
       "25%     223.500000    0.000000    2.000000   20.125000    0.000000   \n",
       "50%     446.000000    0.000000    3.000000   28.000000    0.000000   \n",
       "75%     668.500000    1.000000    3.000000   38.000000    1.000000   \n",
       "max     891.000000    1.000000    3.000000   80.000000    8.000000   \n",
       "\n",
       "            Parch        Fare  \n",
       "count  891.000000  891.000000  \n",
       "mean     0.381594   32.204208  \n",
       "std      0.806057   49.693429  \n",
       "min      0.000000    0.000000  \n",
       "25%      0.000000    7.910400  \n",
       "50%      0.000000   14.454200  \n",
       "75%      0.000000   31.000000  \n",
       "max      6.000000  512.329200  "
      ]
     },
     "execution_count": 6,
     "metadata": {},
     "output_type": "execute_result"
    }
   ],
   "source": [
    "df.describe()"
   ]
  },
  {
   "cell_type": "code",
   "execution_count": 7,
   "metadata": {
    "execution": {
     "iopub.execute_input": "2022-03-17T06:21:52.026245Z",
     "iopub.status.busy": "2022-03-17T06:21:52.025949Z",
     "iopub.status.idle": "2022-03-17T06:21:52.033712Z",
     "shell.execute_reply": "2022-03-17T06:21:52.032956Z",
     "shell.execute_reply.started": "2022-03-17T06:21:52.026213Z"
    }
   },
   "outputs": [
    {
     "data": {
      "text/plain": [
       "male      577\n",
       "female    314\n",
       "Name: Sex, dtype: int64"
      ]
     },
     "execution_count": 7,
     "metadata": {},
     "output_type": "execute_result"
    }
   ],
   "source": [
    "df['Sex'].value_counts() "
   ]
  },
  {
   "cell_type": "code",
   "execution_count": 8,
   "metadata": {
    "execution": {
     "iopub.execute_input": "2022-03-17T06:21:52.035121Z",
     "iopub.status.busy": "2022-03-17T06:21:52.034837Z",
     "iopub.status.idle": "2022-03-17T06:21:52.063771Z",
     "shell.execute_reply": "2022-03-17T06:21:52.063058Z",
     "shell.execute_reply.started": "2022-03-17T06:21:52.035090Z"
    }
   },
   "outputs": [
    {
     "data": {
      "text/html": [
       "<div>\n",
       "<style scoped>\n",
       "    .dataframe tbody tr th:only-of-type {\n",
       "        vertical-align: middle;\n",
       "    }\n",
       "\n",
       "    .dataframe tbody tr th {\n",
       "        vertical-align: top;\n",
       "    }\n",
       "\n",
       "    .dataframe thead th {\n",
       "        text-align: right;\n",
       "    }\n",
       "</style>\n",
       "<table border=\"1\" class=\"dataframe\">\n",
       "  <thead>\n",
       "    <tr style=\"text-align: right;\">\n",
       "      <th>Survived</th>\n",
       "      <th>0</th>\n",
       "      <th>1</th>\n",
       "    </tr>\n",
       "    <tr>\n",
       "      <th>Sex</th>\n",
       "      <th></th>\n",
       "      <th></th>\n",
       "    </tr>\n",
       "  </thead>\n",
       "  <tbody>\n",
       "    <tr>\n",
       "      <th>female</th>\n",
       "      <td>81</td>\n",
       "      <td>233</td>\n",
       "    </tr>\n",
       "    <tr>\n",
       "      <th>male</th>\n",
       "      <td>468</td>\n",
       "      <td>109</td>\n",
       "    </tr>\n",
       "  </tbody>\n",
       "</table>\n",
       "</div>"
      ],
      "text/plain": [
       "Survived    0    1\n",
       "Sex               \n",
       "female     81  233\n",
       "male      468  109"
      ]
     },
     "execution_count": 8,
     "metadata": {},
     "output_type": "execute_result"
    }
   ],
   "source": [
    "### Let's compare sex column with target\n",
    "pd.crosstab(df.Sex, df.Survived)"
   ]
  },
  {
   "cell_type": "code",
   "execution_count": 9,
   "metadata": {
    "execution": {
     "iopub.execute_input": "2022-03-17T06:21:52.065431Z",
     "iopub.status.busy": "2022-03-17T06:21:52.065201Z",
     "iopub.status.idle": "2022-03-17T06:21:52.308583Z",
     "shell.execute_reply": "2022-03-17T06:21:52.306359Z",
     "shell.execute_reply.started": "2022-03-17T06:21:52.065404Z"
    }
   },
   "outputs": [
    {
     "data": {
      "image/png": "[encoded data removed]",
      "text/plain": [
       "<Figure size 720x432 with 1 Axes>"
      ]
     },
     "metadata": {
      "needs_background": "light"
     },
     "output_type": "display_data"
    }
   ],
   "source": [
    "## Let's create a plot for the crosstab\n",
    "pd.crosstab(df.Survived, df.Sex).plot(kind='bar', color=['salmon', 'lightblue'], figsize = (10,6))\n",
    "\n",
    "plt.title(\"Survival frequency for Sex\")\n",
    "plt.xlabel(\"0 = Not survived, 1 = survived\")\n",
    "plt.ylabel(\"Count of survival\")\n",
    "plt.legend(['Female', 'Male']);"
   ]
  },
  {
   "cell_type": "code",
   "execution_count": 10,
   "metadata": {
    "execution": {
     "iopub.execute_input": "2022-03-17T06:21:52.316126Z",
     "iopub.status.busy": "2022-03-17T06:21:52.313286Z",
     "iopub.status.idle": "2022-03-17T06:21:52.340749Z",
     "shell.execute_reply": "2022-03-17T06:21:52.340083Z",
     "shell.execute_reply.started": "2022-03-17T06:21:52.316076Z"
    }
   },
   "outputs": [
    {
     "data": {
      "text/html": [
       "<div>\n",
       "<style scoped>\n",
       "    .dataframe tbody tr th:only-of-type {\n",
       "        vertical-align: middle;\n",
       "    }\n",
       "\n",
       "    .dataframe tbody tr th {\n",
       "        vertical-align: top;\n",
       "    }\n",
       "\n",
       "    .dataframe thead th {\n",
       "        text-align: right;\n",
       "    }\n",
       "</style>\n",
       "<table border=\"1\" class=\"dataframe\">\n",
       "  <thead>\n",
       "    <tr style=\"text-align: right;\">\n",
       "      <th>Survived</th>\n",
       "      <th>0</th>\n",
       "      <th>1</th>\n",
       "    </tr>\n",
       "    <tr>\n",
       "      <th>Pclass</th>\n",
       "      <th></th>\n",
       "      <th></th>\n",
       "    </tr>\n",
       "  </thead>\n",
       "  <tbody>\n",
       "    <tr>\n",
       "      <th>1</th>\n",
       "      <td>80</td>\n",
       "      <td>136</td>\n",
       "    </tr>\n",
       "    <tr>\n",
       "      <th>2</th>\n",
       "      <td>97</td>\n",
       "      <td>87</td>\n",
       "    </tr>\n",
       "    <tr>\n",
       "      <th>3</th>\n",
       "      <td>372</td>\n",
       "      <td>119</td>\n",
       "    </tr>\n",
       "  </tbody>\n",
       "</table>\n",
       "</div>"
      ],
      "text/plain": [
       "Survived    0    1\n",
       "Pclass            \n",
       "1          80  136\n",
       "2          97   87\n",
       "3         372  119"
      ]
     },
     "execution_count": 10,
     "metadata": {},
     "output_type": "execute_result"
    }
   ],
   "source": [
    "### Let's compare Pclass column with target\n",
    "pd.crosstab(df.Pclass, df.Survived)"
   ]
  },
  {
   "cell_type": "code",
   "execution_count": 11,
   "metadata": {
    "execution": {
     "iopub.execute_input": "2022-03-17T06:21:52.342939Z",
     "iopub.status.busy": "2022-03-17T06:21:52.342059Z",
     "iopub.status.idle": "2022-03-17T06:21:52.607046Z",
     "shell.execute_reply": "2022-03-17T06:21:52.606123Z",
     "shell.execute_reply.started": "2022-03-17T06:21:52.342880Z"
    }
   },
   "outputs": [
    {
     "data": {
      "image/png": "[encoded data removed]",
      "text/plain": [
       "<Figure size 720x432 with 1 Axes>"
      ]
     },
     "metadata": {
      "needs_background": "light"
     },
     "output_type": "display_data"
    }
   ],
   "source": [
    "## Let's create a plot for the crosstab\n",
    "pd.crosstab(df.Survived, df.Pclass).plot(kind='bar', color=['salmon', 'lightblue', 'cyan'], figsize = (10,6))\n",
    "\n",
    "plt.title(\"Survival frequency for Pclass\")\n",
    "plt.xlabel(\"0 = Not survived, 1 = survived\")\n",
    "plt.ylabel(\"Count of survival\")\n",
    "plt.legend(['Pclass-1','Pclass-2','Pclass-3']);"
   ]
  },
  {
   "cell_type": "code",
   "execution_count": 12,
   "metadata": {
    "execution": {
     "iopub.execute_input": "2022-03-17T06:21:52.608567Z",
     "iopub.status.busy": "2022-03-17T06:21:52.608335Z",
     "iopub.status.idle": "2022-03-17T06:21:52.626639Z",
     "shell.execute_reply": "2022-03-17T06:21:52.625661Z",
     "shell.execute_reply.started": "2022-03-17T06:21:52.608538Z"
    }
   },
   "outputs": [
    {
     "data": {
      "text/html": [
       "<div>\n",
       "<style scoped>\n",
       "    .dataframe tbody tr th:only-of-type {\n",
       "        vertical-align: middle;\n",
       "    }\n",
       "\n",
       "    .dataframe tbody tr th {\n",
       "        vertical-align: top;\n",
       "    }\n",
       "\n",
       "    .dataframe thead th {\n",
       "        text-align: right;\n",
       "    }\n",
       "</style>\n",
       "<table border=\"1\" class=\"dataframe\">\n",
       "  <thead>\n",
       "    <tr style=\"text-align: right;\">\n",
       "      <th></th>\n",
       "      <th>PassengerId</th>\n",
       "      <th>Survived</th>\n",
       "      <th>Pclass</th>\n",
       "      <th>Age</th>\n",
       "      <th>SibSp</th>\n",
       "      <th>Parch</th>\n",
       "      <th>Fare</th>\n",
       "    </tr>\n",
       "  </thead>\n",
       "  <tbody>\n",
       "    <tr>\n",
       "      <th>PassengerId</th>\n",
       "      <td>1.000000</td>\n",
       "      <td>-0.005007</td>\n",
       "      <td>-0.035144</td>\n",
       "      <td>0.036847</td>\n",
       "      <td>-0.057527</td>\n",
       "      <td>-0.001652</td>\n",
       "      <td>0.012658</td>\n",
       "    </tr>\n",
       "    <tr>\n",
       "      <th>Survived</th>\n",
       "      <td>-0.005007</td>\n",
       "      <td>1.000000</td>\n",
       "      <td>-0.338481</td>\n",
       "      <td>-0.077221</td>\n",
       "      <td>-0.035322</td>\n",
       "      <td>0.081629</td>\n",
       "      <td>0.257307</td>\n",
       "    </tr>\n",
       "    <tr>\n",
       "      <th>Pclass</th>\n",
       "      <td>-0.035144</td>\n",
       "      <td>-0.338481</td>\n",
       "      <td>1.000000</td>\n",
       "      <td>-0.369226</td>\n",
       "      <td>0.083081</td>\n",
       "      <td>0.018443</td>\n",
       "      <td>-0.549500</td>\n",
       "    </tr>\n",
       "    <tr>\n",
       "      <th>Age</th>\n",
       "      <td>0.036847</td>\n",
       "      <td>-0.077221</td>\n",
       "      <td>-0.369226</td>\n",
       "      <td>1.000000</td>\n",
       "      <td>-0.308247</td>\n",
       "      <td>-0.189119</td>\n",
       "      <td>0.096067</td>\n",
       "    </tr>\n",
       "    <tr>\n",
       "      <th>SibSp</th>\n",
       "      <td>-0.057527</td>\n",
       "      <td>-0.035322</td>\n",
       "      <td>0.083081</td>\n",
       "      <td>-0.308247</td>\n",
       "      <td>1.000000</td>\n",
       "      <td>0.414838</td>\n",
       "      <td>0.159651</td>\n",
       "    </tr>\n",
       "    <tr>\n",
       "      <th>Parch</th>\n",
       "      <td>-0.001652</td>\n",
       "      <td>0.081629</td>\n",
       "      <td>0.018443</td>\n",
       "      <td>-0.189119</td>\n",
       "      <td>0.414838</td>\n",
       "      <td>1.000000</td>\n",
       "      <td>0.216225</td>\n",
       "    </tr>\n",
       "    <tr>\n",
       "      <th>Fare</th>\n",
       "      <td>0.012658</td>\n",
       "      <td>0.257307</td>\n",
       "      <td>-0.549500</td>\n",
       "      <td>0.096067</td>\n",
       "      <td>0.159651</td>\n",
       "      <td>0.216225</td>\n",
       "      <td>1.000000</td>\n",
       "    </tr>\n",
       "  </tbody>\n",
       "</table>\n",
       "</div>"
      ],
      "text/plain": [
       "             PassengerId  Survived    Pclass       Age     SibSp     Parch  \\\n",
       "PassengerId     1.000000 -0.005007 -0.035144  0.036847 -0.057527 -0.001652   \n",
       "Survived       -0.005007  1.000000 -0.338481 -0.077221 -0.035322  0.081629   \n",
       "Pclass         -0.035144 -0.338481  1.000000 -0.369226  0.083081  0.018443   \n",
       "Age             0.036847 -0.077221 -0.369226  1.000000 -0.308247 -0.189119   \n",
       "SibSp          -0.057527 -0.035322  0.083081 -0.308247  1.000000  0.414838   \n",
       "Parch          -0.001652  0.081629  0.018443 -0.189119  0.414838  1.000000   \n",
       "Fare            0.012658  0.257307 -0.549500  0.096067  0.159651  0.216225   \n",
       "\n",
       "                 Fare  \n",
       "PassengerId  0.012658  \n",
       "Survived     0.257307  \n",
       "Pclass      -0.549500  \n",
       "Age          0.096067  \n",
       "SibSp        0.159651  \n",
       "Parch        0.216225  \n",
       "Fare         1.000000  "
      ]
     },
     "execution_count": 12,
     "metadata": {},
     "output_type": "execute_result"
    }
   ],
   "source": [
    "## Now let's see the overall relations in the dataset (Correlation matrix)\n",
    "\n",
    "df_corr = df.corr()\n",
    "df_corr"
   ]
  },
  {
   "cell_type": "code",
   "execution_count": 13,
   "metadata": {
    "execution": {
     "iopub.execute_input": "2022-03-17T06:21:52.628242Z",
     "iopub.status.busy": "2022-03-17T06:21:52.627936Z",
     "iopub.status.idle": "2022-03-17T06:21:53.353599Z",
     "shell.execute_reply": "2022-03-17T06:21:53.352669Z",
     "shell.execute_reply.started": "2022-03-17T06:21:52.628210Z"
    }
   },
   "outputs": [
    {
     "data": {
      "image/png": "[encoded data removed]",
      "text/plain": [
       "<Figure size 1080x720 with 2 Axes>"
      ]
     },
     "metadata": {
      "needs_background": "light"
     },
     "output_type": "display_data"
    }
   ],
   "source": [
    "## Let's make the correlation matrix more visual\n",
    "fig, ax = plt.subplots(figsize=(15,10))\n",
    "\n",
    "ax = sns.heatmap(df_corr,\n",
    "                 annot=True,\n",
    "                 linewidths=0.5,\n",
    "                 fmt='.2f',\n",
    "                 cmap='YlGnBu')"
   ]
  },
  {
   "cell_type": "markdown",
   "metadata": {},
   "source": [
    "#### From the above Correlation heatmap, we can analyze which feature plays a vital role in chance of survivalance"
   ]
  },
  {
   "cell_type": "code",
   "execution_count": 14,
   "metadata": {
    "execution": {
     "iopub.execute_input": "2022-03-17T06:21:54.865631Z",
     "iopub.status.busy": "2022-03-17T06:21:54.865317Z",
     "iopub.status.idle": "2022-03-17T06:21:54.875474Z",
     "shell.execute_reply": "2022-03-17T06:21:54.874620Z",
     "shell.execute_reply.started": "2022-03-17T06:21:54.865584Z"
    }
   },
   "outputs": [
    {
     "data": {
      "text/plain": [
       "PassengerId      0\n",
       "Survived         0\n",
       "Pclass           0\n",
       "Name             0\n",
       "Sex              0\n",
       "Age            177\n",
       "SibSp            0\n",
       "Parch            0\n",
       "Ticket           0\n",
       "Fare             0\n",
       "Cabin          687\n",
       "Embarked         2\n",
       "dtype: int64"
      ]
     },
     "execution_count": 14,
     "metadata": {},
     "output_type": "execute_result"
    }
   ],
   "source": [
    "## Let's dela with the missing values\n",
    "\n",
    "df.isna().sum()"
   ]
  },
  {
   "cell_type": "markdown",
   "metadata": {
    "execution": {
     "iopub.execute_input": "2022-03-15T17:56:13.198508Z",
     "iopub.status.busy": "2022-03-15T17:56:13.198107Z",
     "iopub.status.idle": "2022-03-15T17:56:13.202007Z",
     "shell.execute_reply": "2022-03-15T17:56:13.201374Z",
     "shell.execute_reply.started": "2022-03-15T17:56:13.198462Z"
    }
   },
   "source": [
    "## Let's fill the empty values"
   ]
  },
  {
   "cell_type": "code",
   "execution_count": 15,
   "metadata": {
    "execution": {
     "iopub.execute_input": "2022-03-17T06:21:56.783671Z",
     "iopub.status.busy": "2022-03-17T06:21:56.783157Z",
     "iopub.status.idle": "2022-03-17T06:21:56.791774Z",
     "shell.execute_reply": "2022-03-17T06:21:56.790894Z",
     "shell.execute_reply.started": "2022-03-17T06:21:56.783620Z"
    }
   },
   "outputs": [
    {
     "name": "stdout",
     "output_type": "stream",
     "text": [
      "PassengerId\n",
      "Survived\n",
      "Pclass\n",
      "Age\n",
      "SibSp\n",
      "Parch\n",
      "Fare\n"
     ]
    }
   ],
   "source": [
    "## Let's consider the columns with numeric values\n",
    "\n",
    "for label, content in df.items():\n",
    "    if pd.api.types.is_numeric_dtype(content):\n",
    "        print(label)"
   ]
  },
  {
   "cell_type": "code",
   "execution_count": 16,
   "metadata": {
    "execution": {
     "iopub.execute_input": "2022-03-17T06:21:56.794885Z",
     "iopub.status.busy": "2022-03-17T06:21:56.794639Z",
     "iopub.status.idle": "2022-03-17T06:21:56.804024Z",
     "shell.execute_reply": "2022-03-17T06:21:56.803078Z",
     "shell.execute_reply.started": "2022-03-17T06:21:56.794859Z"
    }
   },
   "outputs": [
    {
     "name": "stdout",
     "output_type": "stream",
     "text": [
      "Age\n"
     ]
    }
   ],
   "source": [
    "## Let's check if any numeric column has missing values\n",
    "for label, content in df.items():\n",
    "    if pd.api.types.is_numeric_dtype(content):\n",
    "        if pd.isnull(content).sum():\n",
    "            print(label)"
   ]
  },
  {
   "cell_type": "code",
   "execution_count": 17,
   "metadata": {
    "execution": {
     "iopub.execute_input": "2022-03-17T06:21:56.805549Z",
     "iopub.status.busy": "2022-03-17T06:21:56.805205Z",
     "iopub.status.idle": "2022-03-17T06:21:56.820874Z",
     "shell.execute_reply": "2022-03-17T06:21:56.820163Z",
     "shell.execute_reply.started": "2022-03-17T06:21:56.805522Z"
    }
   },
   "outputs": [],
   "source": [
    "## We have only one numeric column (Age) with null values, let's fill it with median values\n",
    "\n",
    "for label, content in df.items():\n",
    "    if pd.api.types.is_numeric_dtype(content):\n",
    "        \n",
    "        ## let's take a column to display whether it had null or not(previously)\n",
    "        df[label+'_is_missing'] = pd.isnull(content)\n",
    "        \n",
    "        if pd.isnull(content).sum():\n",
    "            \n",
    "             \n",
    "            \n",
    "            ## Let's fill missing with median (b'coz median is more robust than mean)\n",
    "            df[label] = content.fillna(content.median())"
   ]
  },
  {
   "cell_type": "code",
   "execution_count": 18,
   "metadata": {
    "execution": {
     "iopub.execute_input": "2022-03-17T06:21:57.095807Z",
     "iopub.status.busy": "2022-03-17T06:21:57.095511Z",
     "iopub.status.idle": "2022-03-17T06:21:57.106003Z",
     "shell.execute_reply": "2022-03-17T06:21:57.105394Z",
     "shell.execute_reply.started": "2022-03-17T06:21:57.095775Z"
    }
   },
   "outputs": [
    {
     "data": {
      "text/plain": [
       "PassengerId                 0\n",
       "Survived                    0\n",
       "Pclass                      0\n",
       "Name                        0\n",
       "Sex                         0\n",
       "Age                         0\n",
       "SibSp                       0\n",
       "Parch                       0\n",
       "Ticket                      0\n",
       "Fare                        0\n",
       "Cabin                     687\n",
       "Embarked                    2\n",
       "PassengerId_is_missing      0\n",
       "Survived_is_missing         0\n",
       "Pclass_is_missing           0\n",
       "Age_is_missing              0\n",
       "SibSp_is_missing            0\n",
       "Parch_is_missing            0\n",
       "Fare_is_missing             0\n",
       "dtype: int64"
      ]
     },
     "execution_count": 18,
     "metadata": {},
     "output_type": "execute_result"
    }
   ],
   "source": [
    "## Let's see about missing values\n",
    "\n",
    "df.isna().sum()"
   ]
  },
  {
   "cell_type": "code",
   "execution_count": 19,
   "metadata": {
    "execution": {
     "iopub.execute_input": "2022-03-17T06:21:57.508933Z",
     "iopub.status.busy": "2022-03-17T06:21:57.508512Z",
     "iopub.status.idle": "2022-03-17T06:21:57.516903Z",
     "shell.execute_reply": "2022-03-17T06:21:57.515968Z",
     "shell.execute_reply.started": "2022-03-17T06:21:57.508902Z"
    }
   },
   "outputs": [
    {
     "name": "stdout",
     "output_type": "stream",
     "text": [
      "Cabin\n",
      "Embarked\n"
     ]
    }
   ],
   "source": [
    "## Let's find the columns with null values (string dtype)\n",
    "for label, content in df.items():\n",
    "    if pd.api.types.is_string_dtype(content):\n",
    "        if pd.isnull(content).sum():\n",
    "            print(label)"
   ]
  },
  {
   "cell_type": "code",
   "execution_count": 20,
   "metadata": {
    "execution": {
     "iopub.execute_input": "2022-03-17T06:21:58.280210Z",
     "iopub.status.busy": "2022-03-17T06:21:58.279796Z",
     "iopub.status.idle": "2022-03-17T06:21:58.288239Z",
     "shell.execute_reply": "2022-03-17T06:21:58.287373Z",
     "shell.execute_reply.started": "2022-03-17T06:21:58.280178Z"
    }
   },
   "outputs": [
    {
     "data": {
      "text/plain": [
       "B96 B98        4\n",
       "G6             4\n",
       "C23 C25 C27    4\n",
       "C22 C26        3\n",
       "F33            3\n",
       "              ..\n",
       "E34            1\n",
       "C7             1\n",
       "C54            1\n",
       "E36            1\n",
       "C148           1\n",
       "Name: Cabin, Length: 147, dtype: int64"
      ]
     },
     "execution_count": 20,
     "metadata": {},
     "output_type": "execute_result"
    }
   ],
   "source": [
    "df['Cabin'].value_counts()"
   ]
  },
  {
   "cell_type": "code",
   "execution_count": 21,
   "metadata": {
    "execution": {
     "iopub.execute_input": "2022-03-17T06:21:58.976296Z",
     "iopub.status.busy": "2022-03-17T06:21:58.975520Z",
     "iopub.status.idle": "2022-03-17T06:21:58.983993Z",
     "shell.execute_reply": "2022-03-17T06:21:58.983097Z",
     "shell.execute_reply.started": "2022-03-17T06:21:58.976254Z"
    }
   },
   "outputs": [
    {
     "data": {
      "text/plain": [
       "S    644\n",
       "C    168\n",
       "Q     77\n",
       "Name: Embarked, dtype: int64"
      ]
     },
     "execution_count": 21,
     "metadata": {},
     "output_type": "execute_result"
    }
   ],
   "source": [
    "df['Embarked'].value_counts()"
   ]
  },
  {
   "cell_type": "code",
   "execution_count": 22,
   "metadata": {
    "execution": {
     "iopub.execute_input": "2022-03-17T06:21:59.541698Z",
     "iopub.status.busy": "2022-03-17T06:21:59.541118Z",
     "iopub.status.idle": "2022-03-17T06:21:59.560106Z",
     "shell.execute_reply": "2022-03-17T06:21:59.559232Z",
     "shell.execute_reply.started": "2022-03-17T06:21:59.541657Z"
    }
   },
   "outputs": [],
   "source": [
    "## Let's fill/change categorical values\n",
    "\n",
    "for label, content in df.items():\n",
    "    if not pd.api.types.is_numeric_dtype(content):\n",
    "            \n",
    "        ## Let's place a column to determine whether the values were missing\n",
    "        df[label+'_is_missing'] = pd.isnull(content)\n",
    "        \n",
    "        ## Let's turn categorical values into numericals \n",
    "        ## we have to add +1 to the categorical code as for null it gives -1 ( so, we make it 0)\n",
    "        \n",
    "        df[label] = pd.Categorical(content).codes + 1"
   ]
  },
  {
   "cell_type": "code",
   "execution_count": 23,
   "metadata": {
    "execution": {
     "iopub.execute_input": "2022-03-17T06:21:59.980096Z",
     "iopub.status.busy": "2022-03-17T06:21:59.979791Z",
     "iopub.status.idle": "2022-03-17T06:21:59.999346Z",
     "shell.execute_reply": "2022-03-17T06:21:59.998698Z",
     "shell.execute_reply.started": "2022-03-17T06:21:59.980063Z"
    }
   },
   "outputs": [
    {
     "name": "stdout",
     "output_type": "stream",
     "text": [
      "<class 'pandas.core.frame.DataFrame'>\n",
      "RangeIndex: 891 entries, 0 to 890\n",
      "Data columns (total 24 columns):\n",
      " #   Column                  Non-Null Count  Dtype  \n",
      "---  ------                  --------------  -----  \n",
      " 0   PassengerId             891 non-null    int64  \n",
      " 1   Survived                891 non-null    int64  \n",
      " 2   Pclass                  891 non-null    int64  \n",
      " 3   Name                    891 non-null    int16  \n",
      " 4   Sex                     891 non-null    int8   \n",
      " 5   Age                     891 non-null    float64\n",
      " 6   SibSp                   891 non-null    int64  \n",
      " 7   Parch                   891 non-null    int64  \n",
      " 8   Ticket                  891 non-null    int16  \n",
      " 9   Fare                    891 non-null    float64\n",
      " 10  Cabin                   891 non-null    int16  \n",
      " 11  Embarked                891 non-null    int8   \n",
      " 12  PassengerId_is_missing  891 non-null    bool   \n",
      " 13  Survived_is_missing     891 non-null    bool   \n",
      " 14  Pclass_is_missing       891 non-null    bool   \n",
      " 15  Age_is_missing          891 non-null    bool   \n",
      " 16  SibSp_is_missing        891 non-null    bool   \n",
      " 17  Parch_is_missing        891 non-null    bool   \n",
      " 18  Fare_is_missing         891 non-null    bool   \n",
      " 19  Name_is_missing         891 non-null    bool   \n",
      " 20  Sex_is_missing          891 non-null    bool   \n",
      " 21  Ticket_is_missing       891 non-null    bool   \n",
      " 22  Cabin_is_missing        891 non-null    bool   \n",
      " 23  Embarked_is_missing     891 non-null    bool   \n",
      "dtypes: bool(12), float64(2), int16(3), int64(5), int8(2)\n",
      "memory usage: 66.3 KB\n"
     ]
    }
   ],
   "source": [
    "df.info()"
   ]
  },
  {
   "cell_type": "code",
   "execution_count": 24,
   "metadata": {
    "execution": {
     "iopub.execute_input": "2022-03-17T06:22:00.498079Z",
     "iopub.status.busy": "2022-03-17T06:22:00.497646Z",
     "iopub.status.idle": "2022-03-17T06:22:00.508972Z",
     "shell.execute_reply": "2022-03-17T06:22:00.508193Z",
     "shell.execute_reply.started": "2022-03-17T06:22:00.498047Z"
    }
   },
   "outputs": [
    {
     "data": {
      "text/plain": [
       "PassengerId               0\n",
       "Survived                  0\n",
       "Pclass                    0\n",
       "Name                      0\n",
       "Sex                       0\n",
       "Age                       0\n",
       "SibSp                     0\n",
       "Parch                     0\n",
       "Ticket                    0\n",
       "Fare                      0\n",
       "Cabin                     0\n",
       "Embarked                  0\n",
       "PassengerId_is_missing    0\n",
       "Survived_is_missing       0\n",
       "Pclass_is_missing         0\n",
       "Age_is_missing            0\n",
       "SibSp_is_missing          0\n",
       "Parch_is_missing          0\n",
       "Fare_is_missing           0\n",
       "Name_is_missing           0\n",
       "Sex_is_missing            0\n",
       "Ticket_is_missing         0\n",
       "Cabin_is_missing          0\n",
       "Embarked_is_missing       0\n",
       "dtype: int64"
      ]
     },
     "execution_count": 24,
     "metadata": {},
     "output_type": "execute_result"
    }
   ],
   "source": [
    "df.isna().sum()"
   ]
  },
  {
   "cell_type": "code",
   "execution_count": 25,
   "metadata": {
    "execution": {
     "iopub.execute_input": "2022-03-17T06:22:01.131991Z",
     "iopub.status.busy": "2022-03-17T06:22:01.131186Z",
     "iopub.status.idle": "2022-03-17T06:22:01.139518Z",
     "shell.execute_reply": "2022-03-17T06:22:01.138468Z",
     "shell.execute_reply.started": "2022-03-17T06:22:01.131943Z"
    }
   },
   "outputs": [],
   "source": [
    "df = df.drop('Survived_is_missing', axis=1)"
   ]
  },
  {
   "cell_type": "markdown",
   "metadata": {},
   "source": [
    "### Now we got a well cleaned dataset"
   ]
  },
  {
   "cell_type": "code",
   "execution_count": 26,
   "metadata": {
    "execution": {
     "iopub.execute_input": "2022-03-17T06:22:03.781018Z",
     "iopub.status.busy": "2022-03-17T06:22:03.780708Z",
     "iopub.status.idle": "2022-03-17T06:22:03.791056Z",
     "shell.execute_reply": "2022-03-17T06:22:03.789963Z",
     "shell.execute_reply.started": "2022-03-17T06:22:03.780981Z"
    }
   },
   "outputs": [],
   "source": [
    "#3 Let's split into x and y\n",
    "\n",
    "x = df.drop('Survived', axis=1)\n",
    "y = df.Survived\n",
    "\n",
    "## Let's split the data into train and valid sets\n",
    "np.random.seed(25)\n",
    "\n",
    "x_train, x_test, y_train, y_test = train_test_split(x, y, test_size=0.20)"
   ]
  },
  {
   "cell_type": "code",
   "execution_count": 27,
   "metadata": {
    "execution": {
     "iopub.execute_input": "2022-03-17T06:22:03.945027Z",
     "iopub.status.busy": "2022-03-17T06:22:03.944509Z",
     "iopub.status.idle": "2022-03-17T06:22:03.949857Z",
     "shell.execute_reply": "2022-03-17T06:22:03.948954Z",
     "shell.execute_reply.started": "2022-03-17T06:22:03.944974Z"
    }
   },
   "outputs": [],
   "source": [
    "## let's try with RandomForestClassifier\n",
    "\n",
    "clf = RandomForestClassifier()"
   ]
  },
  {
   "cell_type": "code",
   "execution_count": 28,
   "metadata": {
    "execution": {
     "iopub.execute_input": "2022-03-17T06:22:04.680026Z",
     "iopub.status.busy": "2022-03-17T06:22:04.679280Z",
     "iopub.status.idle": "2022-03-17T06:22:04.916753Z",
     "shell.execute_reply": "2022-03-17T06:22:04.915854Z",
     "shell.execute_reply.started": "2022-03-17T06:22:04.679989Z"
    }
   },
   "outputs": [
    {
     "data": {
      "text/plain": [
       "RandomForestClassifier()"
      ]
     },
     "execution_count": 28,
     "metadata": {},
     "output_type": "execute_result"
    }
   ],
   "source": [
    "clf.fit(x_train, y_train)"
   ]
  },
  {
   "cell_type": "code",
   "execution_count": 29,
   "metadata": {
    "execution": {
     "iopub.execute_input": "2022-03-17T06:22:05.486727Z",
     "iopub.status.busy": "2022-03-17T06:22:05.486420Z",
     "iopub.status.idle": "2022-03-17T06:22:05.522399Z",
     "shell.execute_reply": "2022-03-17T06:22:05.521779Z",
     "shell.execute_reply.started": "2022-03-17T06:22:05.486692Z"
    }
   },
   "outputs": [
    {
     "data": {
      "text/plain": [
       "1.0"
      ]
     },
     "execution_count": 29,
     "metadata": {},
     "output_type": "execute_result"
    }
   ],
   "source": [
    "clf.score(x_train, y_train)"
   ]
  },
  {
   "cell_type": "code",
   "execution_count": 30,
   "metadata": {
    "execution": {
     "iopub.execute_input": "2022-03-17T06:22:08.801381Z",
     "iopub.status.busy": "2022-03-17T06:22:08.800677Z",
     "iopub.status.idle": "2022-03-17T06:22:08.827454Z",
     "shell.execute_reply": "2022-03-17T06:22:08.826639Z",
     "shell.execute_reply.started": "2022-03-17T06:22:08.801296Z"
    }
   },
   "outputs": [
    {
     "data": {
      "text/plain": [
       "0.8100558659217877"
      ]
     },
     "execution_count": 30,
     "metadata": {},
     "output_type": "execute_result"
    }
   ],
   "source": [
    "## let's check accuracy for the validation set\n",
    "\n",
    "clf.score(x_test, y_test)"
   ]
  },
  {
   "cell_type": "markdown",
   "metadata": {},
   "source": [
    "## Let's Tune the model to gain better results"
   ]
  },
  {
   "cell_type": "code",
   "execution_count": 31,
   "metadata": {
    "execution": {
     "iopub.execute_input": "2022-03-17T06:22:11.216010Z",
     "iopub.status.busy": "2022-03-17T06:22:11.215344Z",
     "iopub.status.idle": "2022-03-17T06:22:11.222321Z",
     "shell.execute_reply": "2022-03-17T06:22:11.221427Z",
     "shell.execute_reply.started": "2022-03-17T06:22:11.215972Z"
    }
   },
   "outputs": [],
   "source": [
    "## Hyperparameters dictionary\n",
    "\n",
    "rfc_h = {'n_estimators': np.arange(5, 101, 5),\n",
    "         'max_depth': [None, 3, 5, 7],\n",
    "         'min_samples_split': np.arange(2, 20, 2)}"
   ]
  },
  {
   "cell_type": "code",
   "execution_count": 32,
   "metadata": {
    "execution": {
     "iopub.execute_input": "2022-03-17T06:22:17.288475Z",
     "iopub.status.busy": "2022-03-17T06:22:17.287973Z",
     "iopub.status.idle": "2022-03-17T06:22:17.292598Z",
     "shell.execute_reply": "2022-03-17T06:22:17.291665Z",
     "shell.execute_reply.started": "2022-03-17T06:22:17.288443Z"
    }
   },
   "outputs": [],
   "source": [
    "## Let's use Grid Search\n",
    "\n",
    "rf_gs = GridSearchCV(RandomForestClassifier(n_jobs=-1),\n",
    "                     param_grid = rfc_h,\n",
    "                     cv=5)"
   ]
  },
  {
   "cell_type": "code",
   "execution_count": 33,
   "metadata": {
    "execution": {
     "iopub.execute_input": "2022-03-17T06:22:18.601477Z",
     "iopub.status.busy": "2022-03-17T06:22:18.601066Z",
     "iopub.status.idle": "2022-03-17T06:36:33.216118Z",
     "shell.execute_reply": "2022-03-17T06:36:33.214970Z",
     "shell.execute_reply.started": "2022-03-17T06:22:18.601447Z"
    }
   },
   "outputs": [
    {
     "name": "stdout",
     "output_type": "stream",
     "text": [
      "CPU times: total: 6min 5s\n",
      "Wall time: 7min 27s\n"
     ]
    },
    {
     "data": {
      "text/plain": [
       "GridSearchCV(cv=5, estimator=RandomForestClassifier(n_jobs=-1),\n",
       "             param_grid={'max_depth': [None, 3, 5, 7],\n",
       "                         'min_samples_split': array([ 2,  4,  6,  8, 10, 12, 14, 16, 18]),\n",
       "                         'n_estimators': array([  5,  10,  15,  20,  25,  30,  35,  40,  45,  50,  55,  60,  65,\n",
       "        70,  75,  80,  85,  90,  95, 100])})"
      ]
     },
     "execution_count": 33,
     "metadata": {},
     "output_type": "execute_result"
    }
   ],
   "source": [
    "%%time\n",
    "rf_gs.fit(x_train, y_train)"
   ]
  },
  {
   "cell_type": "code",
   "execution_count": 34,
   "metadata": {
    "execution": {
     "iopub.execute_input": "2022-03-17T06:36:33.219171Z",
     "iopub.status.busy": "2022-03-17T06:36:33.218477Z",
     "iopub.status.idle": "2022-03-17T06:36:33.225067Z",
     "shell.execute_reply": "2022-03-17T06:36:33.224263Z",
     "shell.execute_reply.started": "2022-03-17T06:36:33.219132Z"
    }
   },
   "outputs": [
    {
     "data": {
      "text/plain": [
       "{'max_depth': None, 'min_samples_split': 2, 'n_estimators': 50}"
      ]
     },
     "execution_count": 34,
     "metadata": {},
     "output_type": "execute_result"
    }
   ],
   "source": [
    "rf_gs.best_params_"
   ]
  },
  {
   "cell_type": "code",
   "execution_count": 35,
   "metadata": {
    "execution": {
     "iopub.execute_input": "2022-03-17T06:36:33.226598Z",
     "iopub.status.busy": "2022-03-17T06:36:33.226370Z",
     "iopub.status.idle": "2022-03-17T06:36:33.345725Z",
     "shell.execute_reply": "2022-03-17T06:36:33.344821Z",
     "shell.execute_reply.started": "2022-03-17T06:36:33.226570Z"
    }
   },
   "outputs": [
    {
     "data": {
      "text/plain": [
       "0.8324022346368715"
      ]
     },
     "execution_count": 35,
     "metadata": {},
     "output_type": "execute_result"
    }
   ],
   "source": [
    "rf_gs.score(x_test, y_test)"
   ]
  },
  {
   "cell_type": "markdown",
   "metadata": {},
   "source": [
    "## Let's evaluate our model"
   ]
  },
  {
   "cell_type": "code",
   "execution_count": 36,
   "metadata": {
    "execution": {
     "iopub.execute_input": "2022-03-17T06:36:33.347757Z",
     "iopub.status.busy": "2022-03-17T06:36:33.347498Z",
     "iopub.status.idle": "2022-03-17T06:36:33.457409Z",
     "shell.execute_reply": "2022-03-17T06:36:33.456688Z",
     "shell.execute_reply.started": "2022-03-17T06:36:33.347728Z"
    }
   },
   "outputs": [],
   "source": [
    "y_preds = rf_gs.predict(x_test)"
   ]
  },
  {
   "cell_type": "code",
   "execution_count": 37,
   "metadata": {
    "execution": {
     "iopub.execute_input": "2022-03-17T06:37:51.730397Z",
     "iopub.status.busy": "2022-03-17T06:37:51.730127Z",
     "iopub.status.idle": "2022-03-17T06:37:51.737474Z",
     "shell.execute_reply": "2022-03-17T06:37:51.736853Z",
     "shell.execute_reply.started": "2022-03-17T06:37:51.730370Z"
    }
   },
   "outputs": [
    {
     "data": {
      "text/plain": [
       "array([0, 0, 0, 0, 0, 1, 0, 0, 1, 0, 1, 0, 0, 0, 0, 1, 0, 1, 1, 1, 1, 1,\n",
       "       0, 0, 0, 0, 0, 1, 0, 0, 0, 1, 1, 1, 0, 1, 0, 1, 1, 0, 1, 0, 1, 0,\n",
       "       0, 0, 0, 1, 0, 1, 1, 0, 0, 0, 1, 0, 1, 0, 1, 0, 1, 0, 0, 0, 0, 1,\n",
       "       0, 0, 0, 0, 0, 1, 1, 0, 0, 0, 0, 0, 0, 0, 0, 1, 0, 0, 0, 0, 0, 0,\n",
       "       0, 0, 0, 1, 0, 0, 0, 0, 0, 1, 1, 1, 0, 1, 1, 1, 1, 1, 1, 0, 0, 1,\n",
       "       1, 0, 1, 0, 0, 0, 1, 1, 1, 1, 0, 1, 0, 0, 1, 0, 0, 0, 0, 0, 1, 0,\n",
       "       1, 0, 1, 0, 0, 0, 0, 1, 0, 0, 0, 1, 0, 1, 1, 0, 0, 0, 0, 0, 0, 1,\n",
       "       1, 1, 0, 0, 1, 0, 1, 0, 0, 0, 0, 0, 0, 0, 0, 1, 1, 0, 0, 0, 0, 0,\n",
       "       1, 0, 0], dtype=int64)"
      ]
     },
     "execution_count": 37,
     "metadata": {},
     "output_type": "execute_result"
    }
   ],
   "source": [
    "y_preds"
   ]
  },
  {
   "cell_type": "code",
   "execution_count": 38,
   "metadata": {
    "execution": {
     "iopub.execute_input": "2022-03-17T06:37:56.278332Z",
     "iopub.status.busy": "2022-03-17T06:37:56.277580Z",
     "iopub.status.idle": "2022-03-17T06:37:56.607525Z",
     "shell.execute_reply": "2022-03-17T06:37:56.606667Z",
     "shell.execute_reply.started": "2022-03-17T06:37:56.278284Z"
    }
   },
   "outputs": [
    {
     "name": "stderr",
     "output_type": "stream",
     "text": [
      "C:\\Users\\harsh\\Desktop\\Titanic\\env\\lib\\site-packages\\sklearn\\utils\\deprecation.py:87: FutureWarning: Function plot_roc_curve is deprecated; Function :func:`plot_roc_curve` is deprecated in 1.0 and will be removed in 1.2. Use one of the class methods: :meth:`sklearn.metric.RocCurveDisplay.from_predictions` or :meth:`sklearn.metric.RocCurveDisplay.from_estimator`.\n",
      "  warnings.warn(msg, category=FutureWarning)\n"
     ]
    },
    {
     "data": {
      "image/png": "[encoded data removed]",
      "text/plain": [
       "<Figure size 432x288 with 1 Axes>"
      ]
     },
     "metadata": {
      "needs_background": "light"
     },
     "output_type": "display_data"
    }
   ],
   "source": [
    "# Plot ROC curve and claculate AUC metric\n",
    "plot_roc_curve(rf_gs, x_test, y_test);"
   ]
  },
  {
   "cell_type": "code",
   "execution_count": 39,
   "metadata": {
    "execution": {
     "iopub.execute_input": "2022-03-17T06:38:05.019203Z",
     "iopub.status.busy": "2022-03-17T06:38:05.018250Z",
     "iopub.status.idle": "2022-03-17T06:38:05.025009Z",
     "shell.execute_reply": "2022-03-17T06:38:05.024069Z",
     "shell.execute_reply.started": "2022-03-17T06:38:05.019160Z"
    }
   },
   "outputs": [
    {
     "name": "stdout",
     "output_type": "stream",
     "text": [
      "[[99 13]\n",
      " [17 50]]\n"
     ]
    }
   ],
   "source": [
    "# Confusion matrix\n",
    "print(confusion_matrix(y_test, y_preds))"
   ]
  },
  {
   "cell_type": "code",
   "execution_count": 40,
   "metadata": {
    "execution": {
     "iopub.execute_input": "2022-03-17T06:38:08.791093Z",
     "iopub.status.busy": "2022-03-17T06:38:08.790344Z",
     "iopub.status.idle": "2022-03-17T06:38:08.968088Z",
     "shell.execute_reply": "2022-03-17T06:38:08.967061Z",
     "shell.execute_reply.started": "2022-03-17T06:38:08.791041Z"
    }
   },
   "outputs": [
    {
     "data": {
      "image/png": "[encoded data removed]",
      "text/plain": [
       "<Figure size 216x216 with 1 Axes>"
      ]
     },
     "metadata": {},
     "output_type": "display_data"
    }
   ],
   "source": [
    "sns.set(font_scale=1.5)\n",
    "\n",
    "def plot_conf_mat(y_test, y_preds):\n",
    "    \"\"\"\n",
    "    Plots a nice looking confusion matrix using Seaborn's heatmap()\n",
    "    \"\"\"\n",
    "    fig, ax = plt.subplots(figsize=(3,3))\n",
    "    ax = sns.heatmap(confusion_matrix(y_test, y_preds),\n",
    "                     annot = True,\n",
    "                     cbar = False)\n",
    "    plt.xlabel(\"Predicted label\") # Predictions go to the x-axis\n",
    "    plt.ylabel(\"True label\") # true labels go to the y-axis\n",
    "    \n",
    "plot_conf_mat(y_test, y_preds)"
   ]
  },
  {
   "cell_type": "code",
   "execution_count": 41,
   "metadata": {
    "execution": {
     "iopub.execute_input": "2022-03-17T06:38:12.748064Z",
     "iopub.status.busy": "2022-03-17T06:38:12.747780Z",
     "iopub.status.idle": "2022-03-17T06:38:12.761463Z",
     "shell.execute_reply": "2022-03-17T06:38:12.760308Z",
     "shell.execute_reply.started": "2022-03-17T06:38:12.748035Z"
    }
   },
   "outputs": [
    {
     "name": "stdout",
     "output_type": "stream",
     "text": [
      "              precision    recall  f1-score   support\n",
      "\n",
      "           0       0.85      0.88      0.87       112\n",
      "           1       0.79      0.75      0.77        67\n",
      "\n",
      "    accuracy                           0.83       179\n",
      "   macro avg       0.82      0.82      0.82       179\n",
      "weighted avg       0.83      0.83      0.83       179\n",
      "\n"
     ]
    }
   ],
   "source": [
    "## Let's analyze different metrics with \"Classification Report\"\n",
    "\n",
    "print(classification_report(y_test, y_preds))"
   ]
  },
  {
   "cell_type": "markdown",
   "metadata": {},
   "source": [
    "## Now let's take test data"
   ]
  },
  {
   "cell_type": "code",
   "execution_count": 42,
   "metadata": {
    "execution": {
     "iopub.execute_input": "2022-03-17T06:38:18.159914Z",
     "iopub.status.busy": "2022-03-17T06:38:18.159642Z",
     "iopub.status.idle": "2022-03-17T06:38:18.175152Z",
     "shell.execute_reply": "2022-03-17T06:38:18.174079Z",
     "shell.execute_reply.started": "2022-03-17T06:38:18.159885Z"
    }
   },
   "outputs": [],
   "source": [
    "dft = pd.read_csv('data/test.csv')"
   ]
  },
  {
   "cell_type": "code",
   "execution_count": 43,
   "metadata": {
    "execution": {
     "iopub.execute_input": "2022-03-17T06:38:21.420177Z",
     "iopub.status.busy": "2022-03-17T06:38:21.419591Z",
     "iopub.status.idle": "2022-03-17T06:38:21.444961Z",
     "shell.execute_reply": "2022-03-17T06:38:21.444044Z",
     "shell.execute_reply.started": "2022-03-17T06:38:21.420138Z"
    }
   },
   "outputs": [
    {
     "data": {
      "text/html": [
       "<div>\n",
       "<style scoped>\n",
       "    .dataframe tbody tr th:only-of-type {\n",
       "        vertical-align: middle;\n",
       "    }\n",
       "\n",
       "    .dataframe tbody tr th {\n",
       "        vertical-align: top;\n",
       "    }\n",
       "\n",
       "    .dataframe thead th {\n",
       "        text-align: right;\n",
       "    }\n",
       "</style>\n",
       "<table border=\"1\" class=\"dataframe\">\n",
       "  <thead>\n",
       "    <tr style=\"text-align: right;\">\n",
       "      <th></th>\n",
       "      <th>PassengerId</th>\n",
       "      <th>Pclass</th>\n",
       "      <th>Name</th>\n",
       "      <th>Sex</th>\n",
       "      <th>Age</th>\n",
       "      <th>SibSp</th>\n",
       "      <th>Parch</th>\n",
       "      <th>Ticket</th>\n",
       "      <th>Fare</th>\n",
       "      <th>Cabin</th>\n",
       "      <th>Embarked</th>\n",
       "    </tr>\n",
       "  </thead>\n",
       "  <tbody>\n",
       "    <tr>\n",
       "      <th>0</th>\n",
       "      <td>892</td>\n",
       "      <td>3</td>\n",
       "      <td>Kelly, Mr. James</td>\n",
       "      <td>male</td>\n",
       "      <td>34.5</td>\n",
       "      <td>0</td>\n",
       "      <td>0</td>\n",
       "      <td>330911</td>\n",
       "      <td>7.8292</td>\n",
       "      <td>NaN</td>\n",
       "      <td>Q</td>\n",
       "    </tr>\n",
       "    <tr>\n",
       "      <th>1</th>\n",
       "      <td>893</td>\n",
       "      <td>3</td>\n",
       "      <td>Wilkes, Mrs. James (Ellen Needs)</td>\n",
       "      <td>female</td>\n",
       "      <td>47.0</td>\n",
       "      <td>1</td>\n",
       "      <td>0</td>\n",
       "      <td>363272</td>\n",
       "      <td>7.0000</td>\n",
       "      <td>NaN</td>\n",
       "      <td>S</td>\n",
       "    </tr>\n",
       "    <tr>\n",
       "      <th>2</th>\n",
       "      <td>894</td>\n",
       "      <td>2</td>\n",
       "      <td>Myles, Mr. Thomas Francis</td>\n",
       "      <td>male</td>\n",
       "      <td>62.0</td>\n",
       "      <td>0</td>\n",
       "      <td>0</td>\n",
       "      <td>240276</td>\n",
       "      <td>9.6875</td>\n",
       "      <td>NaN</td>\n",
       "      <td>Q</td>\n",
       "    </tr>\n",
       "    <tr>\n",
       "      <th>3</th>\n",
       "      <td>895</td>\n",
       "      <td>3</td>\n",
       "      <td>Wirz, Mr. Albert</td>\n",
       "      <td>male</td>\n",
       "      <td>27.0</td>\n",
       "      <td>0</td>\n",
       "      <td>0</td>\n",
       "      <td>315154</td>\n",
       "      <td>8.6625</td>\n",
       "      <td>NaN</td>\n",
       "      <td>S</td>\n",
       "    </tr>\n",
       "    <tr>\n",
       "      <th>4</th>\n",
       "      <td>896</td>\n",
       "      <td>3</td>\n",
       "      <td>Hirvonen, Mrs. Alexander (Helga E Lindqvist)</td>\n",
       "      <td>female</td>\n",
       "      <td>22.0</td>\n",
       "      <td>1</td>\n",
       "      <td>1</td>\n",
       "      <td>3101298</td>\n",
       "      <td>12.2875</td>\n",
       "      <td>NaN</td>\n",
       "      <td>S</td>\n",
       "    </tr>\n",
       "    <tr>\n",
       "      <th>...</th>\n",
       "      <td>...</td>\n",
       "      <td>...</td>\n",
       "      <td>...</td>\n",
       "      <td>...</td>\n",
       "      <td>...</td>\n",
       "      <td>...</td>\n",
       "      <td>...</td>\n",
       "      <td>...</td>\n",
       "      <td>...</td>\n",
       "      <td>...</td>\n",
       "      <td>...</td>\n",
       "    </tr>\n",
       "    <tr>\n",
       "      <th>413</th>\n",
       "      <td>1305</td>\n",
       "      <td>3</td>\n",
       "      <td>Spector, Mr. Woolf</td>\n",
       "      <td>male</td>\n",
       "      <td>NaN</td>\n",
       "      <td>0</td>\n",
       "      <td>0</td>\n",
       "      <td>A.5. 3236</td>\n",
       "      <td>8.0500</td>\n",
       "      <td>NaN</td>\n",
       "      <td>S</td>\n",
       "    </tr>\n",
       "    <tr>\n",
       "      <th>414</th>\n",
       "      <td>1306</td>\n",
       "      <td>1</td>\n",
       "      <td>Oliva y Ocana, Dona. Fermina</td>\n",
       "      <td>female</td>\n",
       "      <td>39.0</td>\n",
       "      <td>0</td>\n",
       "      <td>0</td>\n",
       "      <td>PC 17758</td>\n",
       "      <td>108.9000</td>\n",
       "      <td>C105</td>\n",
       "      <td>C</td>\n",
       "    </tr>\n",
       "    <tr>\n",
       "      <th>415</th>\n",
       "      <td>1307</td>\n",
       "      <td>3</td>\n",
       "      <td>Saether, Mr. Simon Sivertsen</td>\n",
       "      <td>male</td>\n",
       "      <td>38.5</td>\n",
       "      <td>0</td>\n",
       "      <td>0</td>\n",
       "      <td>SOTON/O.Q. 3101262</td>\n",
       "      <td>7.2500</td>\n",
       "      <td>NaN</td>\n",
       "      <td>S</td>\n",
       "    </tr>\n",
       "    <tr>\n",
       "      <th>416</th>\n",
       "      <td>1308</td>\n",
       "      <td>3</td>\n",
       "      <td>Ware, Mr. Frederick</td>\n",
       "      <td>male</td>\n",
       "      <td>NaN</td>\n",
       "      <td>0</td>\n",
       "      <td>0</td>\n",
       "      <td>359309</td>\n",
       "      <td>8.0500</td>\n",
       "      <td>NaN</td>\n",
       "      <td>S</td>\n",
       "    </tr>\n",
       "    <tr>\n",
       "      <th>417</th>\n",
       "      <td>1309</td>\n",
       "      <td>3</td>\n",
       "      <td>Peter, Master. Michael J</td>\n",
       "      <td>male</td>\n",
       "      <td>NaN</td>\n",
       "      <td>1</td>\n",
       "      <td>1</td>\n",
       "      <td>2668</td>\n",
       "      <td>22.3583</td>\n",
       "      <td>NaN</td>\n",
       "      <td>C</td>\n",
       "    </tr>\n",
       "  </tbody>\n",
       "</table>\n",
       "<p>418 rows × 11 columns</p>\n",
       "</div>"
      ],
      "text/plain": [
       "     PassengerId  Pclass                                          Name  \\\n",
       "0            892       3                              Kelly, Mr. James   \n",
       "1            893       3              Wilkes, Mrs. James (Ellen Needs)   \n",
       "2            894       2                     Myles, Mr. Thomas Francis   \n",
       "3            895       3                              Wirz, Mr. Albert   \n",
       "4            896       3  Hirvonen, Mrs. Alexander (Helga E Lindqvist)   \n",
       "..           ...     ...                                           ...   \n",
       "413         1305       3                            Spector, Mr. Woolf   \n",
       "414         1306       1                  Oliva y Ocana, Dona. Fermina   \n",
       "415         1307       3                  Saether, Mr. Simon Sivertsen   \n",
       "416         1308       3                           Ware, Mr. Frederick   \n",
       "417         1309       3                      Peter, Master. Michael J   \n",
       "\n",
       "        Sex   Age  SibSp  Parch              Ticket      Fare Cabin Embarked  \n",
       "0      male  34.5      0      0              330911    7.8292   NaN        Q  \n",
       "1    female  47.0      1      0              363272    7.0000   NaN        S  \n",
       "2      male  62.0      0      0              240276    9.6875   NaN        Q  \n",
       "3      male  27.0      0      0              315154    8.6625   NaN        S  \n",
       "4    female  22.0      1      1             3101298   12.2875   NaN        S  \n",
       "..      ...   ...    ...    ...                 ...       ...   ...      ...  \n",
       "413    male   NaN      0      0           A.5. 3236    8.0500   NaN        S  \n",
       "414  female  39.0      0      0            PC 17758  108.9000  C105        C  \n",
       "415    male  38.5      0      0  SOTON/O.Q. 3101262    7.2500   NaN        S  \n",
       "416    male   NaN      0      0              359309    8.0500   NaN        S  \n",
       "417    male   NaN      1      1                2668   22.3583   NaN        C  \n",
       "\n",
       "[418 rows x 11 columns]"
      ]
     },
     "execution_count": 43,
     "metadata": {},
     "output_type": "execute_result"
    }
   ],
   "source": [
    "dft"
   ]
  },
  {
   "cell_type": "markdown",
   "metadata": {},
   "source": [
    "### Let's perform all the methods, that we used for train set to clean the test dataset"
   ]
  },
  {
   "cell_type": "code",
   "execution_count": 44,
   "metadata": {
    "execution": {
     "iopub.execute_input": "2022-03-17T06:39:00.000279Z",
     "iopub.status.busy": "2022-03-17T06:38:59.999856Z",
     "iopub.status.idle": "2022-03-17T06:39:00.013249Z",
     "shell.execute_reply": "2022-03-17T06:39:00.012076Z",
     "shell.execute_reply.started": "2022-03-17T06:39:00.000247Z"
    }
   },
   "outputs": [
    {
     "name": "stdout",
     "output_type": "stream",
     "text": [
      "<class 'pandas.core.frame.DataFrame'>\n",
      "RangeIndex: 418 entries, 0 to 417\n",
      "Data columns (total 11 columns):\n",
      " #   Column       Non-Null Count  Dtype  \n",
      "---  ------       --------------  -----  \n",
      " 0   PassengerId  418 non-null    int64  \n",
      " 1   Pclass       418 non-null    int64  \n",
      " 2   Name         418 non-null    object \n",
      " 3   Sex          418 non-null    object \n",
      " 4   Age          332 non-null    float64\n",
      " 5   SibSp        418 non-null    int64  \n",
      " 6   Parch        418 non-null    int64  \n",
      " 7   Ticket       418 non-null    object \n",
      " 8   Fare         417 non-null    float64\n",
      " 9   Cabin        91 non-null     object \n",
      " 10  Embarked     418 non-null    object \n",
      "dtypes: float64(2), int64(4), object(5)\n",
      "memory usage: 36.0+ KB\n"
     ]
    }
   ],
   "source": [
    "dft.info()"
   ]
  },
  {
   "cell_type": "code",
   "execution_count": 45,
   "metadata": {
    "execution": {
     "iopub.execute_input": "2022-03-17T06:39:00.489192Z",
     "iopub.status.busy": "2022-03-17T06:39:00.488547Z",
     "iopub.status.idle": "2022-03-17T06:39:00.497152Z",
     "shell.execute_reply": "2022-03-17T06:39:00.496045Z",
     "shell.execute_reply.started": "2022-03-17T06:39:00.489159Z"
    }
   },
   "outputs": [
    {
     "data": {
      "text/plain": [
       "PassengerId      0\n",
       "Pclass           0\n",
       "Name             0\n",
       "Sex              0\n",
       "Age             86\n",
       "SibSp            0\n",
       "Parch            0\n",
       "Ticket           0\n",
       "Fare             1\n",
       "Cabin          327\n",
       "Embarked         0\n",
       "dtype: int64"
      ]
     },
     "execution_count": 45,
     "metadata": {},
     "output_type": "execute_result"
    }
   ],
   "source": [
    "dft.isna().sum()"
   ]
  },
  {
   "cell_type": "code",
   "execution_count": 46,
   "metadata": {
    "execution": {
     "iopub.execute_input": "2022-03-17T06:39:03.755425Z",
     "iopub.status.busy": "2022-03-17T06:39:03.754978Z",
     "iopub.status.idle": "2022-03-17T06:39:03.769131Z",
     "shell.execute_reply": "2022-03-17T06:39:03.768481Z",
     "shell.execute_reply.started": "2022-03-17T06:39:03.755385Z"
    }
   },
   "outputs": [],
   "source": [
    "## We have only one numeric column (Age) with null values, let's fill it with median values\n",
    "\n",
    "for label, content in dft.items():\n",
    "    if pd.api.types.is_numeric_dtype(content):\n",
    "        \n",
    "        ## let's take a column to display whether it had null or not(previously)\n",
    "        \n",
    "        dft[label+'_is_missing'] = pd.isnull(content)\n",
    "        \n",
    "        if pd.isnull(content).sum():\n",
    "            \n",
    "            ## Let's fill missing with median (b'coz median is more robust than mean)\n",
    "            dft[label] = content.fillna(content.median())"
   ]
  },
  {
   "cell_type": "code",
   "execution_count": 47,
   "metadata": {
    "execution": {
     "iopub.execute_input": "2022-03-17T06:39:04.110203Z",
     "iopub.status.busy": "2022-03-17T06:39:04.109309Z",
     "iopub.status.idle": "2022-03-17T06:39:04.124686Z",
     "shell.execute_reply": "2022-03-17T06:39:04.123671Z",
     "shell.execute_reply.started": "2022-03-17T06:39:04.110160Z"
    }
   },
   "outputs": [
    {
     "name": "stdout",
     "output_type": "stream",
     "text": [
      "<class 'pandas.core.frame.DataFrame'>\n",
      "RangeIndex: 418 entries, 0 to 417\n",
      "Data columns (total 17 columns):\n",
      " #   Column                  Non-Null Count  Dtype  \n",
      "---  ------                  --------------  -----  \n",
      " 0   PassengerId             418 non-null    int64  \n",
      " 1   Pclass                  418 non-null    int64  \n",
      " 2   Name                    418 non-null    object \n",
      " 3   Sex                     418 non-null    object \n",
      " 4   Age                     418 non-null    float64\n",
      " 5   SibSp                   418 non-null    int64  \n",
      " 6   Parch                   418 non-null    int64  \n",
      " 7   Ticket                  418 non-null    object \n",
      " 8   Fare                    418 non-null    float64\n",
      " 9   Cabin                   91 non-null     object \n",
      " 10  Embarked                418 non-null    object \n",
      " 11  PassengerId_is_missing  418 non-null    bool   \n",
      " 12  Pclass_is_missing       418 non-null    bool   \n",
      " 13  Age_is_missing          418 non-null    bool   \n",
      " 14  SibSp_is_missing        418 non-null    bool   \n",
      " 15  Parch_is_missing        418 non-null    bool   \n",
      " 16  Fare_is_missing         418 non-null    bool   \n",
      "dtypes: bool(6), float64(2), int64(4), object(5)\n",
      "memory usage: 38.5+ KB\n"
     ]
    }
   ],
   "source": [
    "dft.info()"
   ]
  },
  {
   "cell_type": "code",
   "execution_count": 48,
   "metadata": {
    "execution": {
     "iopub.execute_input": "2022-03-17T06:39:08.092778Z",
     "iopub.status.busy": "2022-03-17T06:39:08.092242Z",
     "iopub.status.idle": "2022-03-17T06:39:08.106473Z",
     "shell.execute_reply": "2022-03-17T06:39:08.105772Z",
     "shell.execute_reply.started": "2022-03-17T06:39:08.092743Z"
    }
   },
   "outputs": [],
   "source": [
    "## Let's fill/change categorical values\n",
    "\n",
    "for label, content in dft.items():\n",
    "    if not pd.api.types.is_numeric_dtype(content):\n",
    "            \n",
    "        ## Let's place a column to determine whether the values were missing\n",
    "        \n",
    "        dft[label+'_is_missing'] = pd.isnull(content)\n",
    "        \n",
    "        ## Let's turn categorical values into numericals \n",
    "        ## we have to add +1 to the categorical code as for null it gives -1 ( so, we make it 0)\n",
    "        \n",
    "        dft[label] = pd.Categorical(content).codes + 1"
   ]
  },
  {
   "cell_type": "markdown",
   "metadata": {},
   "source": [
    "#### Here, even we don't have any null values in dft['Embarked'], we need to add \"Embarked_is_missing\" to make the features of test set same as that of the train set"
   ]
  },
  {
   "cell_type": "code",
   "execution_count": 49,
   "metadata": {
    "execution": {
     "iopub.execute_input": "2022-03-17T06:39:10.076643Z",
     "iopub.status.busy": "2022-03-17T06:39:10.076057Z",
     "iopub.status.idle": "2022-03-17T06:39:10.094180Z",
     "shell.execute_reply": "2022-03-17T06:39:10.093512Z",
     "shell.execute_reply.started": "2022-03-17T06:39:10.076590Z"
    }
   },
   "outputs": [
    {
     "name": "stdout",
     "output_type": "stream",
     "text": [
      "<class 'pandas.core.frame.DataFrame'>\n",
      "RangeIndex: 418 entries, 0 to 417\n",
      "Data columns (total 22 columns):\n",
      " #   Column                  Non-Null Count  Dtype  \n",
      "---  ------                  --------------  -----  \n",
      " 0   PassengerId             418 non-null    int64  \n",
      " 1   Pclass                  418 non-null    int64  \n",
      " 2   Name                    418 non-null    int16  \n",
      " 3   Sex                     418 non-null    int8   \n",
      " 4   Age                     418 non-null    float64\n",
      " 5   SibSp                   418 non-null    int64  \n",
      " 6   Parch                   418 non-null    int64  \n",
      " 7   Ticket                  418 non-null    int16  \n",
      " 8   Fare                    418 non-null    float64\n",
      " 9   Cabin                   418 non-null    int8   \n",
      " 10  Embarked                418 non-null    int8   \n",
      " 11  PassengerId_is_missing  418 non-null    bool   \n",
      " 12  Pclass_is_missing       418 non-null    bool   \n",
      " 13  Age_is_missing          418 non-null    bool   \n",
      " 14  SibSp_is_missing        418 non-null    bool   \n",
      " 15  Parch_is_missing        418 non-null    bool   \n",
      " 16  Fare_is_missing         418 non-null    bool   \n",
      " 17  Name_is_missing         418 non-null    bool   \n",
      " 18  Sex_is_missing          418 non-null    bool   \n",
      " 19  Ticket_is_missing       418 non-null    bool   \n",
      " 20  Cabin_is_missing        418 non-null    bool   \n",
      " 21  Embarked_is_missing     418 non-null    bool   \n",
      "dtypes: bool(11), float64(2), int16(2), int64(4), int8(3)\n",
      "memory usage: 27.1 KB\n"
     ]
    }
   ],
   "source": [
    "dft.info()"
   ]
  },
  {
   "cell_type": "markdown",
   "metadata": {},
   "source": [
    "## Let's make predictions for the test set"
   ]
  },
  {
   "cell_type": "code",
   "execution_count": 50,
   "metadata": {
    "execution": {
     "iopub.execute_input": "2022-03-17T06:39:13.741545Z",
     "iopub.status.busy": "2022-03-17T06:39:13.741197Z",
     "iopub.status.idle": "2022-03-17T06:39:13.852687Z",
     "shell.execute_reply": "2022-03-17T06:39:13.852010Z",
     "shell.execute_reply.started": "2022-03-17T06:39:13.741435Z"
    }
   },
   "outputs": [],
   "source": [
    "test_preds = rf_gs.predict(dft)"
   ]
  },
  {
   "cell_type": "code",
   "execution_count": 51,
   "metadata": {
    "execution": {
     "iopub.execute_input": "2022-03-17T06:39:14.041531Z",
     "iopub.status.busy": "2022-03-17T06:39:14.040694Z",
     "iopub.status.idle": "2022-03-17T06:39:14.047713Z",
     "shell.execute_reply": "2022-03-17T06:39:14.047095Z",
     "shell.execute_reply.started": "2022-03-17T06:39:14.041492Z"
    }
   },
   "outputs": [
    {
     "data": {
      "text/plain": [
       "array([0, 0, 0, 0, 1, 0, 1, 1, 1, 0, 0, 0, 1, 0, 1, 1, 0, 0, 0, 0, 0, 1,\n",
       "       1, 0, 1, 0, 1, 0, 1, 0, 0, 0, 0, 0, 1, 1, 1, 1, 0, 1, 0, 1, 0, 1,\n",
       "       1, 0, 1, 0, 1, 0, 1, 0, 1, 1, 0, 0, 0, 0, 0, 1, 0, 0, 0, 1, 1, 1,\n",
       "       1, 1, 1, 1, 1, 0, 1, 1, 1, 1, 0, 1, 0, 0, 1, 0, 0, 0, 0, 0, 1, 1,\n",
       "       1, 1, 1, 0, 1, 0, 1, 0, 1, 0, 1, 0, 1, 0, 0, 0, 1, 0, 0, 0, 0, 1,\n",
       "       0, 1, 1, 1, 1, 1, 0, 1, 1, 1, 1, 0, 1, 0, 0, 0, 0, 1, 0, 0, 0, 1,\n",
       "       0, 0, 0, 0, 0, 0, 0, 0, 0, 1, 0, 0, 1, 0, 1, 0, 0, 1, 1, 0, 0, 0,\n",
       "       0, 0, 1, 1, 1, 0, 1, 1, 1, 0, 0, 1, 1, 0, 1, 0, 0, 0, 0, 0, 0, 1,\n",
       "       1, 1, 1, 1, 0, 1, 1, 0, 1, 0, 1, 0, 0, 0, 1, 0, 0, 0, 1, 0, 1, 1,\n",
       "       0, 0, 1, 1, 1, 1, 0, 0, 0, 0, 1, 0, 0, 0, 0, 1, 0, 1, 1, 0, 1, 0,\n",
       "       1, 0, 1, 0, 1, 1, 0, 1, 0, 0, 1, 1, 0, 0, 1, 0, 1, 0, 1, 1, 1, 1,\n",
       "       1, 0, 0, 1, 1, 0, 1, 1, 1, 0, 1, 0, 0, 0, 0, 0, 1, 0, 0, 0, 1, 1,\n",
       "       0, 0, 0, 0, 0, 0, 1, 0, 1, 1, 0, 1, 0, 0, 0, 0, 1, 1, 1, 1, 1, 0,\n",
       "       0, 1, 0, 0, 0, 0, 0, 1, 0, 0, 1, 0, 1, 0, 0, 1, 0, 0, 1, 1, 1, 1,\n",
       "       1, 0, 0, 0, 0, 0, 1, 1, 1, 0, 0, 0, 0, 1, 1, 1, 1, 0, 1, 0, 0, 0,\n",
       "       1, 1, 0, 1, 0, 0, 0, 0, 0, 0, 0, 0, 0, 1, 0, 1, 0, 0, 0, 1, 1, 0,\n",
       "       0, 1, 1, 1, 1, 0, 0, 0, 0, 1, 1, 0, 1, 0, 0, 1, 1, 0, 0, 1, 0, 0,\n",
       "       1, 1, 1, 0, 1, 1, 0, 0, 1, 0, 0, 1, 0, 0, 0, 0, 1, 1, 0, 0, 0, 1,\n",
       "       0, 1, 0, 0, 1, 0, 1, 1, 1, 1, 0, 1, 1, 1, 1, 1, 1, 0, 1, 0, 0, 1],\n",
       "      dtype=int64)"
      ]
     },
     "execution_count": 51,
     "metadata": {},
     "output_type": "execute_result"
    }
   ],
   "source": [
    "test_preds"
   ]
  },
  {
   "cell_type": "code",
   "execution_count": 52,
   "metadata": {
    "execution": {
     "iopub.execute_input": "2022-03-17T06:39:17.850640Z",
     "iopub.status.busy": "2022-03-17T06:39:17.849968Z",
     "iopub.status.idle": "2022-03-17T06:39:17.855147Z",
     "shell.execute_reply": "2022-03-17T06:39:17.854532Z",
     "shell.execute_reply.started": "2022-03-17T06:39:17.850561Z"
    }
   },
   "outputs": [],
   "source": [
    "Prediction = pd.DataFrame()"
   ]
  },
  {
   "cell_type": "code",
   "execution_count": 53,
   "metadata": {
    "execution": {
     "iopub.execute_input": "2022-03-17T06:39:17.857304Z",
     "iopub.status.busy": "2022-03-17T06:39:17.856531Z",
     "iopub.status.idle": "2022-03-17T06:39:17.872224Z",
     "shell.execute_reply": "2022-03-17T06:39:17.871064Z",
     "shell.execute_reply.started": "2022-03-17T06:39:17.857259Z"
    }
   },
   "outputs": [],
   "source": [
    "Prediction['PassengerId'] = dft['PassengerId']\n",
    "Prediction['Survived'] = test_preds"
   ]
  },
  {
   "cell_type": "code",
   "execution_count": 54,
   "metadata": {
    "execution": {
     "iopub.execute_input": "2022-03-17T06:39:21.085100Z",
     "iopub.status.busy": "2022-03-17T06:39:21.084806Z",
     "iopub.status.idle": "2022-03-17T06:39:21.096080Z",
     "shell.execute_reply": "2022-03-17T06:39:21.095512Z",
     "shell.execute_reply.started": "2022-03-17T06:39:21.085068Z"
    }
   },
   "outputs": [
    {
     "data": {
      "text/html": [
       "<div>\n",
       "<style scoped>\n",
       "    .dataframe tbody tr th:only-of-type {\n",
       "        vertical-align: middle;\n",
       "    }\n",
       "\n",
       "    .dataframe tbody tr th {\n",
       "        vertical-align: top;\n",
       "    }\n",
       "\n",
       "    .dataframe thead th {\n",
       "        text-align: right;\n",
       "    }\n",
       "</style>\n",
       "<table border=\"1\" class=\"dataframe\">\n",
       "  <thead>\n",
       "    <tr style=\"text-align: right;\">\n",
       "      <th></th>\n",
       "      <th>PassengerId</th>\n",
       "      <th>Survived</th>\n",
       "    </tr>\n",
       "  </thead>\n",
       "  <tbody>\n",
       "    <tr>\n",
       "      <th>0</th>\n",
       "      <td>892</td>\n",
       "      <td>0</td>\n",
       "    </tr>\n",
       "    <tr>\n",
       "      <th>1</th>\n",
       "      <td>893</td>\n",
       "      <td>0</td>\n",
       "    </tr>\n",
       "    <tr>\n",
       "      <th>2</th>\n",
       "      <td>894</td>\n",
       "      <td>0</td>\n",
       "    </tr>\n",
       "    <tr>\n",
       "      <th>3</th>\n",
       "      <td>895</td>\n",
       "      <td>0</td>\n",
       "    </tr>\n",
       "    <tr>\n",
       "      <th>4</th>\n",
       "      <td>896</td>\n",
       "      <td>1</td>\n",
       "    </tr>\n",
       "    <tr>\n",
       "      <th>...</th>\n",
       "      <td>...</td>\n",
       "      <td>...</td>\n",
       "    </tr>\n",
       "    <tr>\n",
       "      <th>413</th>\n",
       "      <td>1305</td>\n",
       "      <td>0</td>\n",
       "    </tr>\n",
       "    <tr>\n",
       "      <th>414</th>\n",
       "      <td>1306</td>\n",
       "      <td>1</td>\n",
       "    </tr>\n",
       "    <tr>\n",
       "      <th>415</th>\n",
       "      <td>1307</td>\n",
       "      <td>0</td>\n",
       "    </tr>\n",
       "    <tr>\n",
       "      <th>416</th>\n",
       "      <td>1308</td>\n",
       "      <td>0</td>\n",
       "    </tr>\n",
       "    <tr>\n",
       "      <th>417</th>\n",
       "      <td>1309</td>\n",
       "      <td>1</td>\n",
       "    </tr>\n",
       "  </tbody>\n",
       "</table>\n",
       "<p>418 rows × 2 columns</p>\n",
       "</div>"
      ],
      "text/plain": [
       "     PassengerId  Survived\n",
       "0            892         0\n",
       "1            893         0\n",
       "2            894         0\n",
       "3            895         0\n",
       "4            896         1\n",
       "..           ...       ...\n",
       "413         1305         0\n",
       "414         1306         1\n",
       "415         1307         0\n",
       "416         1308         0\n",
       "417         1309         1\n",
       "\n",
       "[418 rows x 2 columns]"
      ]
     },
     "execution_count": 54,
     "metadata": {},
     "output_type": "execute_result"
    }
   ],
   "source": [
    "Prediction"
   ]
  }
 ],
 "metadata": {
  "kernelspec": {
   "display_name": "Python 3 (ipykernel)",
   "language": "python",
   "name": "python3"
  },
  "language_info": {
   "codemirror_mode": {
    "name": "ipython",
    "version": 3
   },
   "file_extension": ".py",
   "mimetype": "text/x-python",
   "name": "python",
   "nbconvert_exporter": "python",
   "pygments_lexer": "ipython3",
   "version": "3.9.7"
  }
 },
 "nbformat": 4,
 "nbformat_minor": 4
}
